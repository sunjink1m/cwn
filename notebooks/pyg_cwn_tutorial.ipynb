{
 "cells": [
  {
   "cell_type": "code",
   "execution_count": 1,
   "metadata": {},
   "outputs": [],
   "source": [
    "import torch\n",
    "import torch_geometric as pyg"
   ]
  },
  {
   "cell_type": "markdown",
   "metadata": {},
   "source": [
    "Pytorch-Geometric"
   ]
  },
  {
   "cell_type": "code",
   "execution_count": 62,
   "metadata": {},
   "outputs": [],
   "source": [
    "\"\"\" House graph:\n",
    "\n",
    "    node index:\n",
    "       4\n",
    "      / \\\n",
    "     3---2\n",
    "     |   |\n",
    "     0---1\n",
    "\n",
    "    feature value:\n",
    "        5.4\n",
    "       /   \\\n",
    "     3.2---4.3\n",
    "     |      |\n",
    "     1.0---2.1\n",
    "\n",
    "    \n",
    "    edge feature value\n",
    "       .\n",
    "      4 5\n",
    "     . 6 .\n",
    "     11  8\n",
    "     . 7 .\n",
    "\"\"\"\n",
    "\n",
    "x = torch.tensor([[1.0], [2.1], [3.2], [4.3], [5.4]], dtype=torch.float)\n",
    "edge_index = torch.tensor([[0, 1, 0, 3, 1, 2, 2, 3, 2, 4, 3, 4],\n",
    "                           [1, 0, 3, 0, 2, 1, 3, 2, 4, 2, 4, 3]], dtype=torch.long)\n",
    "edge_attr = torch.tensor([[7], [7], [11], [11], [8], [8], [6], [6], [5], [5], [4], [4]], \n",
    "                            dtype=torch.float)\n",
    "y = torch.tensor([12.345], dtype=torch.float)\n",
    "house = pyg.data.Data(x=x, \n",
    "                      edge_index=edge_index, \n",
    "                      edge_attr=edge_attr,\n",
    "                      y=y)"
   ]
  },
  {
   "cell_type": "code",
   "execution_count": 63,
   "metadata": {},
   "outputs": [
    {
     "data": {
      "text/plain": [
       "Data(edge_attr=[12, 1], edge_index=[2, 12], x=[5, 1], y=[1])"
      ]
     },
     "execution_count": 63,
     "metadata": {},
     "output_type": "execute_result"
    }
   ],
   "source": [
    "house"
   ]
  },
  {
   "cell_type": "code",
   "execution_count": 64,
   "metadata": {},
   "outputs": [],
   "source": [
    "\"\"\"Square graph:\n",
    "\n",
    "     node index:\n",
    "     3---2\n",
    "     |   |\n",
    "     0---1\n",
    "\n",
    "     feature value:\n",
    "     4.4---3.3\n",
    "     |      |\n",
    "     1.1---2.2\n",
    "\n",
    "     . 8 .\n",
    "     90  7\n",
    "     . 6 .\n",
    "\"\"\"\n",
    "\n",
    "x = torch.tensor([[1.1], [2.2], [3.3], [4.4]], dtype=torch.float)\n",
    "edge_index = torch.tensor([[0, 1, 0, 3, 1, 2, 2, 3],\n",
    "                           [1, 0, 3, 0, 2, 1, 3, 2]], dtype=torch.long)\n",
    "edge_attr = torch.tensor([[6], [6], [90], [90], [7], [7], [8], [8]], dtype=torch.long)\n",
    "y = torch.tensor([9.8765], dtype=torch.float)\n",
    "square = pyg.data.Data(x=x, \n",
    "                      edge_index=edge_index, \n",
    "                      edge_attr=edge_attr,\n",
    "                      y=y)"
   ]
  },
  {
   "cell_type": "code",
   "execution_count": 65,
   "metadata": {},
   "outputs": [
    {
     "data": {
      "text/plain": [
       "Data(edge_attr=[8, 1], edge_index=[2, 8], x=[4, 1], y=[1])"
      ]
     },
     "execution_count": 65,
     "metadata": {},
     "output_type": "execute_result"
    }
   ],
   "source": [
    "square"
   ]
  },
  {
   "cell_type": "code",
   "execution_count": 66,
   "metadata": {},
   "outputs": [],
   "source": [
    "my_batch = pyg.data.Batch.from_data_list([house, square])"
   ]
  },
  {
   "cell_type": "code",
   "execution_count": 67,
   "metadata": {},
   "outputs": [
    {
     "data": {
      "text/plain": [
       "tensor([[0, 1, 0, 3, 1, 2, 2, 3, 2, 4, 3, 4, 5, 6, 5, 8, 6, 7, 7, 8],\n",
       "        [1, 0, 3, 0, 2, 1, 3, 2, 4, 2, 4, 3, 6, 5, 8, 5, 7, 6, 8, 7]])"
      ]
     },
     "execution_count": 67,
     "metadata": {},
     "output_type": "execute_result"
    }
   ],
   "source": [
    "my_batch.edge_index"
   ]
  },
  {
   "cell_type": "code",
   "execution_count": 68,
   "metadata": {},
   "outputs": [
    {
     "data": {
      "text/plain": [
       "tensor([[1.0000],\n",
       "        [2.1000],\n",
       "        [3.2000],\n",
       "        [4.3000],\n",
       "        [5.4000],\n",
       "        [1.1000],\n",
       "        [2.2000],\n",
       "        [3.3000],\n",
       "        [4.4000]])"
      ]
     },
     "execution_count": 68,
     "metadata": {},
     "output_type": "execute_result"
    }
   ],
   "source": [
    "my_batch.x"
   ]
  },
  {
   "cell_type": "code",
   "execution_count": 69,
   "metadata": {},
   "outputs": [
    {
     "data": {
      "text/plain": [
       "tensor([[ 7.],\n",
       "        [ 7.],\n",
       "        [11.],\n",
       "        [11.],\n",
       "        [ 8.],\n",
       "        [ 8.],\n",
       "        [ 6.],\n",
       "        [ 6.],\n",
       "        [ 5.],\n",
       "        [ 5.],\n",
       "        [ 4.],\n",
       "        [ 4.],\n",
       "        [ 6.],\n",
       "        [ 6.],\n",
       "        [90.],\n",
       "        [90.],\n",
       "        [ 7.],\n",
       "        [ 7.],\n",
       "        [ 8.],\n",
       "        [ 8.]])"
      ]
     },
     "execution_count": 69,
     "metadata": {},
     "output_type": "execute_result"
    }
   ],
   "source": [
    "my_batch.edge_attr"
   ]
  },
  {
   "cell_type": "code",
   "execution_count": 70,
   "metadata": {},
   "outputs": [
    {
     "data": {
      "text/plain": [
       "tensor([12.3450,  9.8765])"
      ]
     },
     "execution_count": 70,
     "metadata": {},
     "output_type": "execute_result"
    }
   ],
   "source": [
    "my_batch.y"
   ]
  },
  {
   "cell_type": "code",
   "execution_count": 71,
   "metadata": {},
   "outputs": [
    {
     "data": {
      "text/plain": [
       "tensor([0, 0, 0, 0, 0, 1, 1, 1, 1])"
      ]
     },
     "execution_count": 71,
     "metadata": {},
     "output_type": "execute_result"
    }
   ],
   "source": [
    "my_batch.batch"
   ]
  }
 ],
 "metadata": {
  "kernelspec": {
   "display_name": "Python 3.8.13 ('cwn')",
   "language": "python",
   "name": "python3"
  },
  "language_info": {
   "codemirror_mode": {
    "name": "ipython",
    "version": 3
   },
   "file_extension": ".py",
   "mimetype": "text/x-python",
   "name": "python",
   "nbconvert_exporter": "python",
   "pygments_lexer": "ipython3",
   "version": "3.8.13"
  },
  "orig_nbformat": 4,
  "vscode": {
   "interpreter": {
    "hash": "89857c288458fc6d7bd0014aba7d0bbfc7c6c85087b3c7cc7913d482243cd6ea"
   }
  }
 },
 "nbformat": 4,
 "nbformat_minor": 2
}
