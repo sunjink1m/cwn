{
 "cells": [
  {
   "cell_type": "markdown",
   "metadata": {},
   "source": [
    "Code based on\n",
    "    analyse_SR_results.ipynb\n",
    "by \n",
    "    Fabrizio Frasca\n",
    "in commit \n",
    "    bc07009fc949a32313991090a46e0f932689d7bc\n",
    "which was commited\n",
    "    May 15th 2021\n",
    "in repository  \n",
    "    twitter-research/cwn "
   ]
  },
  {
   "cell_type": "code",
   "execution_count": 10,
   "metadata": {},
   "outputs": [],
   "source": [
    "import sys\n",
    "sys.path.append('./../')\n",
    "import os\n",
    "from definitions import ROOT_DIR\n",
    "import matplotlib.pyplot as plt\n",
    "import glob\n",
    "import numpy as np"
   ]
  },
  {
   "cell_type": "code",
   "execution_count": 11,
   "metadata": {},
   "outputs": [],
   "source": [
    "result_path = os.path.join(ROOT_DIR, 'exp', 'results', 'MOLHIV_tuning_molhiv_less_sparse')"
   ]
  },
  {
   "cell_type": "code",
   "execution_count": 12,
   "metadata": {},
   "outputs": [],
   "source": [
    "def parse_results(path, args):\n",
    "    with open(path, 'r') as handle:\n",
    "        failure = None\n",
    "        args_dict = None\n",
    "        second_valid = False # we want the second line that says 'Valid' at the front\n",
    "        for line in handle:\n",
    "            if line.startswith('Valid'):\n",
    "                if second_valid:\n",
    "                    failure = line.strip().split(':                  ')[1]\n",
    "                    failure = float(failure.split(' ± ')[0])\n",
    "                else:\n",
    "                    second_valid += 1\n",
    "            elif line.startswith('Namespace'):\n",
    "                args_dict = {}\n",
    "                fields = line.lstrip('Namespace(').rstrip(')').strip().split(', ')\n",
    "                for field in fields:\n",
    "                    try:\n",
    "                        key, value = field.split('=')\n",
    "                        if key in args:\n",
    "                            args_dict[key] = value\n",
    "                    except ValueError:\n",
    "                        pass\n",
    "            else:\n",
    "                pass\n",
    "    return failure, args_dict"
   ]
  },
  {
   "cell_type": "code",
   "execution_count": 13,
   "metadata": {},
   "outputs": [],
   "source": [
    "args = ['drop_rate', \n",
    "        'lr', \n",
    "        'lr_scheduler', \n",
    "        'lr_scheduler_decay_rate', \n",
    "        'omit_2cell_down',\n",
    "        'num_layers',\n",
    "        'readout',\n",
    "        ]"
   ]
  },
  {
   "cell_type": "code",
   "execution_count": 14,
   "metadata": {},
   "outputs": [
    {
     "data": {
      "text/plain": [
       "(0.8078673084460122,\n",
       " {'drop_rate': '0.1',\n",
       "  'lr': '3e-05',\n",
       "  'lr_scheduler': \"'None'\",\n",
       "  'lr_scheduler_decay_rate': '0.5',\n",
       "  'num_layers': '2',\n",
       "  'omit_2cell_down': \"'True'\",\n",
       "  'readout': \"'mean'\"})"
      ]
     },
     "execution_count": 14,
     "metadata": {},
     "output_type": "execute_result"
    }
   ],
   "source": [
    "path = os.path.join(result_path, 'MOLHIV-0', 'result.txt')\n",
    "parse_results(path, args)"
   ]
  },
  {
   "cell_type": "code",
   "execution_count": 15,
   "metadata": {},
   "outputs": [],
   "source": [
    "results = list()\n",
    "for i in range(300):\n",
    "    try:\n",
    "        path = os.path.join(result_path, f'MOLHIV-{i}', 'result.txt')\n",
    "        final_val_acc, hypparam_settings = parse_results(path, args)\n",
    "        results.append((i, final_val_acc, hypparam_settings))\n",
    "    except FileNotFoundError:\n",
    "        pass"
   ]
  },
  {
   "cell_type": "code",
   "execution_count": 16,
   "metadata": {},
   "outputs": [],
   "source": [
    "results.sort(reverse=True, key=lambda r:r[1])"
   ]
  },
  {
   "cell_type": "code",
   "execution_count": 17,
   "metadata": {},
   "outputs": [
    {
     "data": {
      "text/plain": [
       "300"
      ]
     },
     "execution_count": 17,
     "metadata": {},
     "output_type": "execute_result"
    }
   ],
   "source": [
    "len(results)"
   ]
  },
  {
   "cell_type": "code",
   "execution_count": 18,
   "metadata": {},
   "outputs": [
    {
     "data": {
      "text/plain": [
       "[(290,\n",
       "  0.8450329463060944,\n",
       "  {'drop_rate': '0.5',\n",
       "   'lr': '0.003',\n",
       "   'lr_scheduler': \"'None'\",\n",
       "   'lr_scheduler_decay_rate': '0.5',\n",
       "   'num_layers': '3',\n",
       "   'omit_2cell_down': \"'True'\",\n",
       "   'readout': \"'mean'\"}),\n",
       " (206,\n",
       "  0.8393010239075053,\n",
       "  {'drop_rate': '0.5',\n",
       "   'lr': '0.0001',\n",
       "   'lr_scheduler': \"'None'\",\n",
       "   'lr_scheduler_decay_rate': '0.9',\n",
       "   'num_layers': '3',\n",
       "   'omit_2cell_down': \"'False'\",\n",
       "   'readout': \"'mean'\"}),\n",
       " (210,\n",
       "  0.8379782725847541,\n",
       "  {'drop_rate': '0.5',\n",
       "   'lr': '0.0001',\n",
       "   'lr_scheduler': \"'ReduceLROnPlateau'\",\n",
       "   'lr_scheduler_decay_rate': '0.5',\n",
       "   'num_layers': '3',\n",
       "   'omit_2cell_down': \"'True'\",\n",
       "   'readout': \"'mean'\"}),\n",
       " (267,\n",
       "  0.833676268861454,\n",
       "  {'drop_rate': '0.5',\n",
       "   'lr': '0.001',\n",
       "   'lr_scheduler': \"'None'\",\n",
       "   'lr_scheduler_decay_rate': '0.9',\n",
       "   'num_layers': '3',\n",
       "   'omit_2cell_down': \"'True'\",\n",
       "   'readout': \"'sum'\"}),\n",
       " (295,\n",
       "  0.833481836664707,\n",
       "  {'drop_rate': '0.5',\n",
       "   'lr': '0.003',\n",
       "   'lr_scheduler': \"'None'\",\n",
       "   'lr_scheduler_decay_rate': '0.5',\n",
       "   'num_layers': '3',\n",
       "   'omit_2cell_down': \"'False'\",\n",
       "   'readout': \"'sum'\"}),\n",
       " (283,\n",
       "  0.8328679208308837,\n",
       "  {'drop_rate': '0.5',\n",
       "   'lr': '0.001',\n",
       "   'lr_scheduler': \"'ReduceLROnPlateau'\",\n",
       "   'lr_scheduler_decay_rate': '0.9',\n",
       "   'num_layers': '3',\n",
       "   'omit_2cell_down': \"'True'\",\n",
       "   'readout': \"'sum'\"}),\n",
       " (166,\n",
       "  0.8319524054477758,\n",
       "  {'drop_rate': '0.5',\n",
       "   'lr': '3e-05',\n",
       "   'lr_scheduler': \"'None'\",\n",
       "   'lr_scheduler_decay_rate': '0.5',\n",
       "   'num_layers': '3',\n",
       "   'omit_2cell_down': \"'False'\",\n",
       "   'readout': \"'mean'\"}),\n",
       " (214,\n",
       "  0.8308501126788164,\n",
       "  {'drop_rate': '0.5',\n",
       "   'lr': '0.0001',\n",
       "   'lr_scheduler': \"'ReduceLROnPlateau'\",\n",
       "   'lr_scheduler_decay_rate': '0.5',\n",
       "   'num_layers': '3',\n",
       "   'omit_2cell_down': \"'False'\",\n",
       "   'readout': \"'mean'\"}),\n",
       " (70,\n",
       "  0.8300723838918282,\n",
       "  {'drop_rate': '0.1',\n",
       "   'lr': '0.0003',\n",
       "   'lr_scheduler': \"'None'\",\n",
       "   'lr_scheduler_decay_rate': '0.5',\n",
       "   'num_layers': '3',\n",
       "   'omit_2cell_down': \"'False'\",\n",
       "   'readout': \"'mean'\"}),\n",
       " (175,\n",
       "  0.8299682784636488,\n",
       "  {'drop_rate': '0.5',\n",
       "   'lr': '3e-05',\n",
       "   'lr_scheduler': \"'None'\",\n",
       "   'lr_scheduler_decay_rate': '0.9',\n",
       "   'num_layers': '3',\n",
       "   'omit_2cell_down': \"'False'\",\n",
       "   'readout': \"'sum'\"}),\n",
       " (22,\n",
       "  0.8294508132471095,\n",
       "  {'drop_rate': '0.1',\n",
       "   'lr': '3e-05',\n",
       "   'lr_scheduler': \"'ReduceLROnPlateau'\",\n",
       "   'lr_scheduler_decay_rate': '0.5',\n",
       "   'num_layers': '3',\n",
       "   'omit_2cell_down': \"'False'\",\n",
       "   'readout': \"'mean'\"}),\n",
       " (227,\n",
       "  0.8290007103664511,\n",
       "  {'drop_rate': '0.5',\n",
       "   'lr': '0.0003',\n",
       "   'lr_scheduler': \"'None'\",\n",
       "   'lr_scheduler_decay_rate': '0.5',\n",
       "   'num_layers': '3',\n",
       "   'omit_2cell_down': \"'True'\",\n",
       "   'readout': \"'sum'\"}),\n",
       " (215,\n",
       "  0.8282321673525377,\n",
       "  {'drop_rate': '0.5',\n",
       "   'lr': '0.0001',\n",
       "   'lr_scheduler': \"'ReduceLROnPlateau'\",\n",
       "   'lr_scheduler_decay_rate': '0.5',\n",
       "   'num_layers': '3',\n",
       "   'omit_2cell_down': \"'False'\",\n",
       "   'readout': \"'sum'\"}),\n",
       " (182,\n",
       "  0.8278922937487752,\n",
       "  {'drop_rate': '0.5',\n",
       "   'lr': '3e-05',\n",
       "   'lr_scheduler': \"'ReduceLROnPlateau'\",\n",
       "   'lr_scheduler_decay_rate': '0.5',\n",
       "   'num_layers': '3',\n",
       "   'omit_2cell_down': \"'False'\",\n",
       "   'readout': \"'mean'\"}),\n",
       " (136,\n",
       "  0.8274789339604154,\n",
       "  {'drop_rate': '0.1',\n",
       "   'lr': '0.003',\n",
       "   'lr_scheduler': \"'None'\",\n",
       "   'lr_scheduler_decay_rate': '0.9',\n",
       "   'num_layers': '2',\n",
       "   'omit_2cell_down': \"'True'\",\n",
       "   'readout': \"'mean'\"})]"
      ]
     },
     "execution_count": 18,
     "metadata": {},
     "output_type": "execute_result"
    }
   ],
   "source": [
    "results[:15]"
   ]
  },
  {
   "cell_type": "code",
   "execution_count": null,
   "metadata": {},
   "outputs": [],
   "source": []
  }
 ],
 "metadata": {
  "kernelspec": {
   "display_name": "Python 3.8.13 ('cwn')",
   "language": "python",
   "name": "python3"
  },
  "language_info": {
   "codemirror_mode": {
    "name": "ipython",
    "version": 3
   },
   "file_extension": ".py",
   "mimetype": "text/x-python",
   "name": "python",
   "nbconvert_exporter": "python",
   "pygments_lexer": "ipython3",
   "version": "3.8.13"
  },
  "orig_nbformat": 4,
  "vscode": {
   "interpreter": {
    "hash": "89857c288458fc6d7bd0014aba7d0bbfc7c6c85087b3c7cc7913d482243cd6ea"
   }
  }
 },
 "nbformat": 4,
 "nbformat_minor": 2
}
